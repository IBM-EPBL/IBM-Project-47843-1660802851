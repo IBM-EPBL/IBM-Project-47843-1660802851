

import pandas as pd
import numpy as np
import matplotlib.pyplot as plt

from google.colab import drive
drive.mount('/content/drive')

data = pd.read_csv("/Churn_Modelling (1).csv")

data.head() #univariate analysis

pd.plotting.scatter_matrix(data.loc[:, "Age":"Balance"], diagonal="kde",figsize=(20,15))
plt.show() #multivariate analysis

data.mean() #discriptive analysis

data.isnull().sum() #missing values

import seaborn as sns

q = data.quantile(q=[0.25,0.75]) #0utlier detection using upper and lower extreme
q

IQR = q.loc[0.75]-q.loc[0.25]
IQR

upper_ex = q.loc[0.75]+1.5*IQR
upper_ex

lower_ex = q.loc[0.25]-1.5*IQR
lower_ex

data[data['Age']>62]

data[data['Age']<14]

data['Age'] = np.where(data['Age']>62,data['Age'].mean(),data['Age']) #replacing the outliers using mean value

data[data['Age']>62]

data.head() #encoding

pd.get_dummies(data,columns=['Surname']) #encoding method-1

from sklearn.preprocessing import LabelEncoder

le = LabelEncoder()

data['Geography'] = le.fit_transform(data['Geography']) #method-2 (label encoding)
data.head()

#seperating dependent and independent variables
y = data['Exited']
x = data.iloc[:,0:14]

#splitting the data into train and test 
from sklearn.model_selection import  train_test_split

x_train,x_test,y_train,y_test = train_test_split(x,y,test_size=0.2)

x_train.shape

x_test.shape

