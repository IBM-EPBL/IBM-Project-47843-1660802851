{
 "cells": [
  {
   "cell_type": "code",
   "execution_count": null,
   "id": "071037f4",
   "metadata": {},
   "outputs": [
    {
     "name": "stdout",
     "output_type": "stream",
     "text": [
      " * Serving Flask app \"__main__\" (lazy loading)\n",
      " * Environment: production\n",
      "\u001b[31m   WARNING: This is a development server. Do not use it in a production deployment.\u001b[0m\n",
      "\u001b[2m   Use a production WSGI server instead.\u001b[0m\n",
      " * Debug mode: off\n"
     ]
    },
    {
     "name": "stderr",
     "output_type": "stream",
     "text": [
      " * Running on http://127.0.0.1:5000/ (Press CTRL+C to quit)\n",
      "127.0.0.1 - - [04/Nov/2022 19:39:27] \"GET / HTTP/1.1\" 200 -\n",
      "127.0.0.1 - - [04/Nov/2022 19:39:28] \"GET /static/css/style.css HTTP/1.1\" 200 -\n",
      "127.0.0.1 - - [04/Nov/2022 19:39:30] \"GET /favicon.ico HTTP/1.1\" 404 -\n"
     ]
    }
   ],
   "source": [
    "import numpy as np\n",
    "import os\n",
    "from PIL import Image\n",
    "from flask import Flask, request, render_template, url_for\n",
    "from werkzeug.utils import secure_filename, redirect\n",
    "from gevent.pywsgi import WSGIServer\n",
    "from keras.models import load_model\n",
    "from keras.preprocessing import image\n",
    "from flask import send_from_directory\n",
    "\n",
    "UPLOAD_FOLDER = 'C:\\\\Users\\\\nandh\\\\IBM-Project-20414-1659718946-main\\\\Project Development Phase\\\\Sprint 3\\\\flask_app\\\\uploads'\n",
    "\n",
    "\n",
    "app = Flask(__name__)\n",
    "app.config['UPLOAD_FOLDER'] = UPLOAD_FOLDER\n",
    "\n",
    "model = load_model(\"mnistCNN.h5\")\n",
    "\n",
    "\n",
    "@app.route('/')\n",
    "def index():\n",
    "    return render_template('index.html')\n",
    "\n",
    "\n",
    "@app.route('/predict', methods=['GET', 'POST'])\n",
    "def upload():\n",
    "    if request.method == \"POST\":\n",
    "        f = request.files[\"image\"]\n",
    "        filepath = secure_filename(f.filename)\n",
    "        f.save(os.path.join(app.config['UPLOAD_FOLDER'], filepath))\n",
    "\n",
    "        upload_img = os.path.join(UPLOAD_FOLDER, filepath)\n",
    "        img = Image.open(upload_img).convert(\"L\")  # convert image to monochrome\n",
    "        img = img.resize((28, 28))  # resizing of input image\n",
    "\n",
    "        im2arr = np.array(img)  # converting to image\n",
    "        im2arr = im2arr.reshape(1, 28, 28, 1)  # reshaping according to our requirement\n",
    "\n",
    "        pred = model.predict(im2arr)\n",
    "\n",
    "        num = np.argmax(pred, axis=1)  # printing our Labels\n",
    "\n",
    "        return render_template('predict.html', num=str(num[0]))\n",
    "\n",
    "\n",
    "if __name__ == '__main__':\n",
    "    app.run(debug=False, threaded=False)\n"
   ]
  },
  {
   "cell_type": "code",
   "execution_count": 2,
   "id": "a68c4501",
   "metadata": {},
   "outputs": [
    {
     "name": "stdout",
     "output_type": "stream",
     "text": [
      "Collecting gevent\n",
      "  Downloading gevent-22.10.2-cp39-cp39-win_amd64.whl (1.5 MB)\n",
      "Collecting zope.event\n",
      "  Using cached zope.event-4.5.0-py2.py3-none-any.whl (6.8 kB)\n",
      "Requirement already satisfied: cffi>=1.12.2 in c:\\users\\nandh\\anaconda3\\lib\\site-packages (from gevent) (1.15.0)\n",
      "Collecting greenlet>=2.0.0\n",
      "  Downloading greenlet-2.0.0.post0-cp39-cp39-win_amd64.whl (187 kB)\n",
      "Requirement already satisfied: setuptools in c:\\users\\nandh\\anaconda3\\lib\\site-packages (from gevent) (61.2.0)\n",
      "Requirement already satisfied: zope.interface in c:\\users\\nandh\\anaconda3\\lib\\site-packages (from gevent) (5.4.0)\n",
      "Requirement already satisfied: pycparser in c:\\users\\nandh\\anaconda3\\lib\\site-packages (from cffi>=1.12.2->gevent) (2.21)\n",
      "Installing collected packages: zope.event, greenlet, gevent\n",
      "Note: you may need to restart the kernel to use updated packages.\n",
      "  Attempting uninstall: greenlet\n",
      "    Found existing installation: greenlet 1.1.1\n",
      "    Uninstalling greenlet-1.1.1:\n",
      "      Successfully uninstalled greenlet-1.1.1\n",
      "Successfully installed gevent-22.10.2 greenlet-2.0.0.post0 zope.event-4.5.0\n"
     ]
    }
   ],
   "source": [
    "pip install gevent"
   ]
  },
  {
   "cell_type": "code",
   "execution_count": null,
   "id": "6889f9c2",
   "metadata": {},
   "outputs": [],
   "source": []
  }
 ],
 "metadata": {
  "kernelspec": {
   "display_name": "Python 3 (ipykernel)",
   "language": "python",
   "name": "python3"
  },
  "language_info": {
   "codemirror_mode": {
    "name": "ipython",
    "version": 3
   },
   "file_extension": ".py",
   "mimetype": "text/x-python",
   "name": "python",
   "nbconvert_exporter": "python",
   "pygments_lexer": "ipython3",
   "version": "3.9.12"
  }
 },
 "nbformat": 4,
 "nbformat_minor": 5
}
