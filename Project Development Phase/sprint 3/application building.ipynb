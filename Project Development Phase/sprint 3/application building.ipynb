{
 "cells": [
  {
   "cell_type": "code",
   "execution_count": 8,
   "id": "d5b36038",
   "metadata": {},
   "outputs": [],
   "source": [
    "from werkzeug.wrappers import Request, Response\n",
    "from flask import Flask,render_template,request\n",
    "from PIL import Image\n",
    "import numpy as np\n",
    "from tensorflow.keras.models import load_model\n",
    "import tensorflow as tf\n",
    "app = Flask(__name__)"
   ]
  },
  {
   "cell_type": "code",
   "execution_count": 9,
   "id": "f15c8721",
   "metadata": {},
   "outputs": [],
   "source": [
    "@app.route('/')\n",
    "def home():\n",
    "    return render_template(\"index.html\")\n",
    "\n",
    "@app.route('/about')\n",
    "def about():\n",
    "    return render_template(\"index.html\")\n",
    "\n",
    "@app.route('/upload')\n",
    "def rec():\n",
    "    return render_template(\"recognize.html\")\n"
   ]
  },
  {
   "cell_type": "code",
   "execution_count": null,
   "id": "75bb93bd",
   "metadata": {},
   "outputs": [
    {
     "name": "stderr",
     "output_type": "stream",
     "text": [
      " * Running on http://localhost:9000/ (Press CTRL+C to quit)\n",
      "[2022-11-01 23:48:36,773] ERROR in app: Exception on / [GET]\n",
      "Traceback (most recent call last):\n",
      "  File \"C:\\Users\\nandh\\anaconda3\\lib\\site-packages\\flask\\app.py\", line 2447, in wsgi_app\n",
      "    response = self.full_dispatch_request()\n",
      "  File \"C:\\Users\\nandh\\anaconda3\\lib\\site-packages\\flask\\app.py\", line 1952, in full_dispatch_request\n",
      "    rv = self.handle_user_exception(e)\n",
      "  File \"C:\\Users\\nandh\\anaconda3\\lib\\site-packages\\flask\\app.py\", line 1821, in handle_user_exception\n",
      "    reraise(exc_type, exc_value, tb)\n",
      "  File \"C:\\Users\\nandh\\anaconda3\\lib\\site-packages\\flask\\_compat.py\", line 39, in reraise\n",
      "    raise value\n",
      "  File \"C:\\Users\\nandh\\anaconda3\\lib\\site-packages\\flask\\app.py\", line 1950, in full_dispatch_request\n",
      "    rv = self.dispatch_request()\n",
      "  File \"C:\\Users\\nandh\\anaconda3\\lib\\site-packages\\flask\\app.py\", line 1936, in dispatch_request\n",
      "    return self.view_functions[rule.endpoint](**req.view_args)\n",
      "  File \"C:\\Users\\nandh\\AppData\\Local\\Temp\\ipykernel_7648\\813082607.py\", line 3, in home\n",
      "    return render_template(\"index.html\")\n",
      "  File \"C:\\Users\\nandh\\anaconda3\\lib\\site-packages\\flask\\templating.py\", line 138, in render_template\n",
      "    ctx.app.jinja_env.get_or_select_template(template_name_or_list),\n",
      "  File \"C:\\Users\\nandh\\anaconda3\\lib\\site-packages\\jinja2\\environment.py\", line 930, in get_or_select_template\n",
      "    return self.get_template(template_name_or_list, parent, globals)\n",
      "  File \"C:\\Users\\nandh\\anaconda3\\lib\\site-packages\\jinja2\\environment.py\", line 883, in get_template\n",
      "    return self._load_template(name, self.make_globals(globals))\n",
      "  File \"C:\\Users\\nandh\\anaconda3\\lib\\site-packages\\jinja2\\environment.py\", line 857, in _load_template\n",
      "    template = self.loader.load(self, name, globals)\n",
      "  File \"C:\\Users\\nandh\\anaconda3\\lib\\site-packages\\jinja2\\loaders.py\", line 115, in load\n",
      "    source, filename, uptodate = self.get_source(environment, name)\n",
      "  File \"C:\\Users\\nandh\\anaconda3\\lib\\site-packages\\flask\\templating.py\", line 60, in get_source\n",
      "    return self._get_source_fast(environment, template)\n",
      "  File \"C:\\Users\\nandh\\anaconda3\\lib\\site-packages\\flask\\templating.py\", line 89, in _get_source_fast\n",
      "    raise TemplateNotFound(template)\n",
      "jinja2.exceptions.TemplateNotFound: index.html\n",
      "127.0.0.1 - - [01/Nov/2022 23:48:36] \"GET / HTTP/1.1\" 500 -\n",
      "127.0.0.1 - - [01/Nov/2022 23:48:37] \"GET /favicon.ico HTTP/1.1\" 404 -\n"
     ]
    }
   ],
   "source": [
    "@app.route('/predict',methods=['POST'])\n",
    "def upload_image_file():\n",
    "    if request.method == 'POST':\n",
    "        img = Image.open(request.files['file'].stream).convert(\"L\")\n",
    "        img = img.resize((28,28))\n",
    "        im2arr = np.array(img)\n",
    "        im2arr = im2arr.reshape((1,28,28,1))\n",
    "        y_pred = model.predict_classes(im2arr)\n",
    "        print(y_pred)\n",
    "        if (y_pred == 0):\n",
    "            return render_template(\"0.html\",showcase = str(y_pred))\n",
    "        elif(y_pred == 1):\n",
    "            return render_template(\"1.html\",showcase = str(y_pred))\n",
    "        elif(y_pred == 2):\n",
    "            return render_template(\"2.html\",showcase = str(y_pred))\n",
    "        elif(y_pred == 3):\n",
    "            return render_template(\"3.html\",showcase = str(y_pred))\n",
    "        elif(y_pred == 4):\n",
    "            return render_template(\"4.html\",showcase = str(y_pred))\n",
    "        elif(y_pred == 5):\n",
    "            return render_template(\"5.html\",showcase = str(y_pred))\n",
    "        elif(y_pred == 6):\n",
    "            return render_template(\"6.html\",showcase = str(y_pred))\n",
    "        elif(y_pred == 7):\n",
    "            return render_template(\"7.html\",showcase = str(y_pred))\n",
    "        elif(y_pred == 8):\n",
    "            return render_template(\"8.html\",showcase = str(y_pred))\n",
    "        else:\n",
    "            return render_template(\"9.html\",showcase = str(y_pred))\n",
    "    else:\n",
    "        return None\n",
    "if __name__ == '__main__':\n",
    "    from werkzeug.serving import run_simple\n",
    "    run_simple('localhost', 9000, app)"
   ]
  },
  {
   "cell_type": "code",
   "execution_count": null,
   "id": "16db9fa2",
   "metadata": {},
   "outputs": [],
   "source": []
  }
 ],
 "metadata": {
  "kernelspec": {
   "display_name": "Python 3 (ipykernel)",
   "language": "python",
   "name": "python3"
  },
  "language_info": {
   "codemirror_mode": {
    "name": "ipython",
    "version": 3
   },
   "file_extension": ".py",
   "mimetype": "text/x-python",
   "name": "python",
   "nbconvert_exporter": "python",
   "pygments_lexer": "ipython3",
   "version": "3.9.12"
  }
 },
 "nbformat": 4,
 "nbformat_minor": 5
}
