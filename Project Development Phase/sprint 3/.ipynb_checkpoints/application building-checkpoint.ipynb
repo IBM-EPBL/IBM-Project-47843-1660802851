{
 "cells": [
  {
   "cell_type": "code",
   "execution_count": 5,
   "id": "d5b36038",
   "metadata": {},
   "outputs": [],
   "source": [
    "from werkzeug.wrappers import Request, Response\n",
    "from flask import Flask,render_template,request\n",
    "from PIL import Image\n",
    "import numpy as np\n",
    "from tensorflow.keras.models import load_model\n",
    "import tensorflow as tf\n",
    "app = Flask(__name__)"
   ]
  },
  {
   "cell_type": "code",
   "execution_count": 6,
   "id": "f15c8721",
   "metadata": {},
   "outputs": [],
   "source": [
    "@app.route('/')\n",
    "def home():\n",
    "    return render_template(\"index.html\")\n",
    "\n",
    "@app.route('/about')\n",
    "def about():\n",
    "    return render_template(\"index.html\")\n",
    "\n",
    "@app.route('/upload')\n",
    "def rec():\n",
    "    return render_template(\"recognize.html\")\n"
   ]
  },
  {
   "cell_type": "code",
   "execution_count": 7,
   "id": "75bb93bd",
   "metadata": {},
   "outputs": [
    {
     "name": "stdout",
     "output_type": "stream",
     "text": [
      " * Serving Flask app \"__main__\" (lazy loading)\n",
      " * Environment: production\n",
      "\u001b[31m   WARNING: This is a development server. Do not use it in a production deployment.\u001b[0m\n",
      "\u001b[2m   Use a production WSGI server instead.\u001b[0m\n",
      " * Debug mode: on\n"
     ]
    },
    {
     "name": "stderr",
     "output_type": "stream",
     "text": [
      " * Restarting with watchdog (windowsapi)\n"
     ]
    },
    {
     "ename": "SystemExit",
     "evalue": "1",
     "output_type": "error",
     "traceback": [
      "An exception has occurred, use %tb to see the full traceback.\n",
      "\u001b[1;31mSystemExit\u001b[0m\u001b[1;31m:\u001b[0m 1\n"
     ]
    }
   ],
   "source": [
    "@app.route('/predict',methods=['POST'])\n",
    "def upload_image_file():\n",
    "    if request.method == 'POST':\n",
    "        img = Image.open(request.files['file'].stream).convert(\"L\")\n",
    "        img = img.resize((28,28))\n",
    "        im2arr = np.array(img)\n",
    "        im2arr = im2arr.reshape((1,28,28,1))\n",
    "        y_pred = model.predict_classes(im2arr)\n",
    "        print(y_pred)\n",
    "        if (y_pred == 0):\n",
    "            return render_template(\"0.html\",showcase = str(y_pred))\n",
    "        elif(y_pred == 1):\n",
    "            return render_template(\"1.html\",showcase = str(y_pred))\n",
    "        elif(y_pred == 2):\n",
    "            return render_template(\"2.html\",showcase = str(y_pred))\n",
    "        elif(y_pred == 3):\n",
    "            return render_template(\"3.html\",showcase = str(y_pred))\n",
    "        elif(y_pred == 4):\n",
    "            return render_template(\"4.html\",showcase = str(y_pred))\n",
    "        elif(y_pred == 5):\n",
    "            return render_template(\"5.html\",showcase = str(y_pred))\n",
    "        elif(y_pred == 6):\n",
    "            return render_template(\"6.html\",showcase = str(y_pred))\n",
    "        elif(y_pred == 7):\n",
    "            return render_template(\"7.html\",showcase = str(y_pred))\n",
    "        elif(y_pred == 8):\n",
    "            return render_template(\"8.html\",showcase = str(y_pred))\n",
    "        else:\n",
    "            return render_template(\"9.html\",showcase = str(y_pred))\n",
    "    else:\n",
    "        return None\n",
    "if __name__ == '__main__':\n",
    "    from werkzeug.serving import run_simple\n",
    "    run_simple('localhost', 9000, app)"
   ]
  },
  {
   "cell_type": "code",
   "execution_count": null,
   "id": "16db9fa2",
   "metadata": {},
   "outputs": [],
   "source": []
  }
 ],
 "metadata": {
  "kernelspec": {
   "display_name": "Python 3 (ipykernel)",
   "language": "python",
   "name": "python3"
  },
  "language_info": {
   "codemirror_mode": {
    "name": "ipython",
    "version": 3
   },
   "file_extension": ".py",
   "mimetype": "text/x-python",
   "name": "python",
   "nbconvert_exporter": "python",
   "pygments_lexer": "ipython3",
   "version": "3.9.12"
  }
 },
 "nbformat": 4,
 "nbformat_minor": 5
}
